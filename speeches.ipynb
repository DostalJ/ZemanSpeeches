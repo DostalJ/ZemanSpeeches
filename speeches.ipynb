{
 "cells": [
  {
   "cell_type": "code",
   "execution_count": null,
   "metadata": {
    "collapsed": true
   },
   "outputs": [],
   "source": [
    "def download_data():\n",
    "    \"\"\"\n",
    "    Downloads data from CEPS.\n",
    "    \"\"\"\n",
    "    options = ChromeOptions()\n",
    "    options.add_experimental_option(\"prefs\", {\"download.default_directory\": \"./\",\n",
    "                                              \"download.prompt_for_download\": False,\n",
    "                                              \"download.directory_upgrade\": True,\n",
    "                                              \"safebrowsing.enabled\": True})\n",
    "\n",
    "    browser = Chrome(executable_path=\"./chromedriver\", chrome_options=options)\n",
    "    browser.get(\n",
    "        'http://www.ceps.cz/ENG/Data/Vsechna-data/Pages/Regulacni-energie.aspx')\n",
    "\n",
    "    elem = browser.find_element_by_id(\n",
    "        id_='ctl00_PlaceHolderMain_ctrLoader_ctl00_lnkShow2')\n",
    "    elem.click()\n",
    "\n",
    "    select = Select(browser.find_element_by_id(\n",
    "        'ctl00_PlaceHolderMain_ctrLoader_ctl00_ctrFiltrCasoveObdobi1_drpAgregation'))\n",
    "    select.select_by_visible_text('Minute')\n",
    "\n",
    "    elem = browser.find_element_by_id(\n",
    "        id_='ctl00_PlaceHolderMain_ctrLoader_ctl00_lnkTXT')\n",
    "    elem.click()\n",
    "\n",
    "    sleep(5)\n",
    "    browser.quit()"
   ]
  }
 ],
 "metadata": {
  "kernelspec": {
   "display_name": "Python 3",
   "language": "python",
   "name": "python3"
  },
  "language_info": {
   "codemirror_mode": {
    "name": "ipython",
    "version": 3
   },
   "file_extension": ".py",
   "mimetype": "text/x-python",
   "name": "python",
   "nbconvert_exporter": "python",
   "pygments_lexer": "ipython3",
   "version": "3.5.2"
  }
 },
 "nbformat": 4,
 "nbformat_minor": 2
}
